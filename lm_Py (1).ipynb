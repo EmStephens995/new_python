{
 "cells": [
  {
   "cell_type": "markdown",
   "id": "769d9b02-1fa4-470f-85eb-280dcaf0c3e9",
   "metadata": {},
   "source": [
    "# Linear Modeling Assignment"
   ]
  },
  {
   "cell_type": "code",
   "execution_count": 1,
   "id": "113401a2-d96f-4ef5-9e27-9d74d46c1b23",
   "metadata": {},
   "outputs": [],
   "source": [
    "import pandas as pd"
   ]
  },
  {
   "cell_type": "code",
   "execution_count": 2,
   "id": "74542cc5-e83e-42a9-9c91-790e09aef1d6",
   "metadata": {},
   "outputs": [],
   "source": [
    "df = pd.read_csv('regrex1.csv')"
   ]
  },
  {
   "cell_type": "code",
   "execution_count": 3,
   "id": "861605c2-3041-406a-a628-e974fa2633b7",
   "metadata": {},
   "outputs": [
    {
     "data": {
      "text/html": [
       "<div>\n",
       "<style scoped>\n",
       "    .dataframe tbody tr th:only-of-type {\n",
       "        vertical-align: middle;\n",
       "    }\n",
       "\n",
       "    .dataframe tbody tr th {\n",
       "        vertical-align: top;\n",
       "    }\n",
       "\n",
       "    .dataframe thead th {\n",
       "        text-align: right;\n",
       "    }\n",
       "</style>\n",
       "<table border=\"1\" class=\"dataframe\">\n",
       "  <thead>\n",
       "    <tr style=\"text-align: right;\">\n",
       "      <th></th>\n",
       "      <th>y</th>\n",
       "      <th>x</th>\n",
       "    </tr>\n",
       "  </thead>\n",
       "  <tbody>\n",
       "    <tr>\n",
       "      <th>0</th>\n",
       "      <td>6.8102</td>\n",
       "      <td>9.8492</td>\n",
       "    </tr>\n",
       "    <tr>\n",
       "      <th>1</th>\n",
       "      <td>9.8437</td>\n",
       "      <td>11.1450</td>\n",
       "    </tr>\n",
       "    <tr>\n",
       "      <th>2</th>\n",
       "      <td>4.9767</td>\n",
       "      <td>5.1209</td>\n",
       "    </tr>\n",
       "    <tr>\n",
       "      <th>3</th>\n",
       "      <td>5.0006</td>\n",
       "      <td>8.1085</td>\n",
       "    </tr>\n",
       "    <tr>\n",
       "      <th>4</th>\n",
       "      <td>3.5047</td>\n",
       "      <td>3.5599</td>\n",
       "    </tr>\n",
       "  </tbody>\n",
       "</table>\n",
       "</div>"
      ],
      "text/plain": [
       "        y        x\n",
       "0  6.8102   9.8492\n",
       "1  9.8437  11.1450\n",
       "2  4.9767   5.1209\n",
       "3  5.0006   8.1085\n",
       "4  3.5047   3.5599"
      ]
     },
     "execution_count": 3,
     "metadata": {},
     "output_type": "execute_result"
    }
   ],
   "source": [
    "df.head()"
   ]
  },
  {
   "cell_type": "code",
   "execution_count": 4,
   "id": "be6f45b5-935f-4d63-92e1-0f8efc43f74b",
   "metadata": {},
   "outputs": [],
   "source": [
    "import matplotlib.pyplot as plt"
   ]
  },
  {
   "cell_type": "code",
   "execution_count": 5,
   "id": "61ec74af-e2f6-40f4-a22e-9a7be7c92a8e",
   "metadata": {},
   "outputs": [
    {
     "data": {
      "text/plain": [
       "0     9.8492\n",
       "1    11.1450\n",
       "2     5.1209\n",
       "3     8.1085\n",
       "4     3.5599\n",
       "Name: x, dtype: float64"
      ]
     },
     "execution_count": 5,
     "metadata": {},
     "output_type": "execute_result"
    }
   ],
   "source": [
    "df['x'].head()"
   ]
  },
  {
   "cell_type": "code",
   "execution_count": 6,
   "id": "adefcbcc-c777-473d-8c01-a336048c92d6",
   "metadata": {},
   "outputs": [
    {
     "data": {
      "text/plain": [
       "0    6.8102\n",
       "1    9.8437\n",
       "2    4.9767\n",
       "3    5.0006\n",
       "4    3.5047\n",
       "Name: y, dtype: float64"
      ]
     },
     "execution_count": 6,
     "metadata": {},
     "output_type": "execute_result"
    }
   ],
   "source": [
    "df['y'].head()"
   ]
  },
  {
   "cell_type": "code",
   "execution_count": 19,
   "id": "eb575cbd-22a3-492a-bbe0-a3dd3365ab69",
   "metadata": {},
   "outputs": [
    {
     "data": {
      "text/plain": [
       "<function matplotlib.pyplot.show(close=None, block=None)>"
      ]
     },
     "execution_count": 19,
     "metadata": {},
     "output_type": "execute_result"
    },
    {
     "data": {
      "image/png": "[encoded data removed]",
      "text/plain": [
       "<Figure size 432x288 with 1 Axes>"
      ]
     },
     "metadata": {
      "needs_background": "light"
     },
     "output_type": "display_data"
    }
   ],
   "source": [
    "plt.scatter(df['x'], df['y'])\n",
    "plt.xlabel('X Axis')\n",
    "plt.ylabel('Y Axis')\n",
    "plt.title('Scatter')\n",
    "plt.show"
   ]
  },
  {
   "cell_type": "code",
   "execution_count": 20,
   "id": "a54f38af-a5c8-413c-8b85-ea340a088c5e",
   "metadata": {},
   "outputs": [
    {
     "name": "stdout",
     "output_type": "stream",
     "text": [
      "Defaulting to user installation because normal site-packages is not writeable\n",
      "Requirement already satisfied: scikit-learn in /users/PAS2797/stephens995/.local/lib/python3.6/site-packages (0.24.2)\n",
      "Requirement already satisfied: threadpoolctl>=2.0.0 in /users/PAS2797/stephens995/.local/lib/python3.6/site-packages (from scikit-learn) (3.1.0)\n",
      "Requirement already satisfied: numpy>=1.13.3 in /users/PAS2797/stephens995/.local/lib/python3.6/site-packages (from scikit-learn) (1.19.5)\n",
      "Requirement already satisfied: scipy>=0.19.1 in /users/PAS2797/stephens995/.local/lib/python3.6/site-packages (from scikit-learn) (1.5.4)\n",
      "Requirement already satisfied: joblib>=0.11 in /users/PAS2797/stephens995/.local/lib/python3.6/site-packages (from scikit-learn) (1.1.1)\n",
      "\u001b[33mWARNING: You are using pip version 21.2.4; however, version 21.3.1 is available.\n",
      "You should consider upgrading via the '/apps/project/ondemand/app_jupyter/3.0.17/bin/python -m pip install --upgrade pip' command.\u001b[0m\n"
     ]
    }
   ],
   "source": [
    "!pip install scikit-learn"
   ]
  },
  {
   "cell_type": "code",
   "execution_count": 21,
   "id": "8788e97b-05dc-4516-95d8-6914ab18357e",
   "metadata": {},
   "outputs": [],
   "source": [
    "import numpy as np\n",
    "from sklearn.linear_model import LinearRegression"
   ]
  },
  {
   "cell_type": "code",
   "execution_count": 22,
   "id": "66d8b24c-2df2-412e-bb23-b671e8d7a383",
   "metadata": {},
   "outputs": [],
   "source": [
    "x = np.array(df['x']).reshape((-1,1))\n",
    "y = np.array(df['y'])"
   ]
  },
  {
   "cell_type": "code",
   "execution_count": 23,
   "id": "0b90f2de-c939-4a1d-97ec-2a28c05a34c2",
   "metadata": {},
   "outputs": [],
   "source": [
    "model = LinearRegression()"
   ]
  },
  {
   "cell_type": "code",
   "execution_count": 24,
   "id": "9c11efe0-4c7d-41e3-aff2-d210de8b108b",
   "metadata": {},
   "outputs": [
    {
     "data": {
      "text/plain": [
       "LinearRegression()"
      ]
     },
     "execution_count": 24,
     "metadata": {},
     "output_type": "execute_result"
    }
   ],
   "source": [
    "model.fit(x,y)"
   ]
  },
  {
   "cell_type": "code",
   "execution_count": 25,
   "id": "30279b30-fdfa-43cf-8741-8c69ed8611cf",
   "metadata": {},
   "outputs": [],
   "source": [
    "intercept = model.intercept_\n",
    "slope = model.coef_\n",
    "r_sq = model.score(x,y)"
   ]
  },
  {
   "cell_type": "code",
   "execution_count": 26,
   "id": "76ea2715-a0bd-444e-8309-4ca3042dbb0c",
   "metadata": {},
   "outputs": [
    {
     "name": "stdout",
     "output_type": "stream",
     "text": [
      "intercept: 2.2481427736669986\n",
      "slope: [0.46906228]\n",
      "r squared: 0.9293641551281743\n"
     ]
    }
   ],
   "source": [
    "print(f\"intercept: {intercept}\")\n",
    "print(f\"slope: {slope}\")\n",
    "print(f\"r squared: {r_sq}\")"
   ]
  },
  {
   "cell_type": "code",
   "execution_count": 27,
   "id": "130cd19a-7a7c-43d9-a20a-a78162cac942",
   "metadata": {},
   "outputs": [],
   "source": [
    "y_pred = model.predict(x)"
   ]
  },
  {
   "cell_type": "code",
   "execution_count": 28,
   "id": "ae653aed-c594-40c4-95e4-f6fa7f79c4b8",
   "metadata": {},
   "outputs": [
    {
     "data": {
      "text/plain": [
       "array([ 6.86803101,  7.47584191,  4.65016382,  6.05153429,  3.91795759,\n",
       "        3.18077931,  9.53371196,  5.77558495,  8.82448979,  5.7767107 ,\n",
       "        8.96849191,  4.07514036,  3.12561759,  2.63966906, 10.85135482,\n",
       "        3.02889694, 10.24936029,  6.58110561, 12.09845071,  3.90327594,\n",
       "       13.97469984,  6.89223462, 10.50316989,  8.7582582 ,  7.34638072,\n",
       "        8.16949122,  2.70402441,  9.04082132,  3.2703233 , 10.8813279 ])"
      ]
     },
     "execution_count": 28,
     "metadata": {},
     "output_type": "execute_result"
    }
   ],
   "source": [
    "y_pred"
   ]
  },
  {
   "cell_type": "code",
   "execution_count": 29,
   "id": "160c01e1-c916-42d8-b7e1-3fe6e3d73912",
   "metadata": {},
   "outputs": [
    {
     "data": {
      "image/png": "[encoded data removed]",
      "text/plain": [
       "<Figure size 432x288 with 1 Axes>"
      ]
     },
     "metadata": {
      "needs_background": "light"
     },
     "output_type": "display_data"
    }
   ],
   "source": [
    "plt.plot(df['x'], y_pred)\n",
    "plt.show()"
   ]
  },
  {
   "cell_type": "code",
   "execution_count": 30,
   "id": "55604c8e-ef46-4ed8-a3a2-2b8e87d51349",
   "metadata": {},
   "outputs": [
    {
     "data": {
      "image/png": "[encoded data removed]",
      "text/plain": [
       "<Figure size 432x288 with 1 Axes>"
      ]
     },
     "metadata": {
      "needs_background": "light"
     },
     "output_type": "display_data"
    }
   ],
   "source": [
    "plt.scatter(df['x'], df['y'])\n",
    "plt.plot(df['x'], y_pred)\n",
    "plt.xlabel('X Axis')\n",
    "plt.ylabel('Y Axis')\n",
    "plt.title('Linear Regression')\n",
    "plt.show()"
   ]
  },
  {
   "cell_type": "code",
   "execution_count": null,
   "id": "d2c08bf4-ad29-4c74-bcff-416a4bc0ed66",
   "metadata": {},
   "outputs": [],
   "source": []
  },
  {
   "cell_type": "code",
   "execution_count": null,
   "id": "7eab6511-b57e-42c0-bb59-ec55d6f33a57",
   "metadata": {},
   "outputs": [],
   "source": []
  }
 ],
 "metadata": {
  "kernelspec": {
   "display_name": "Python 3",
   "language": "python",
   "name": "python3"
  },
  "language_info": {
   "codemirror_mode": {
    "name": "ipython",
    "version": 3
   },
   "file_extension": ".py",
   "mimetype": "text/x-python",
   "name": "python",
   "nbconvert_exporter": "python",
   "pygments_lexer": "ipython3",
   "version": "3.6.8"
  }
 },
 "nbformat": 4,
 "nbformat_minor": 5
}
